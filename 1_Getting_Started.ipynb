{
  "nbformat": 4,
  "nbformat_minor": 0,
  "metadata": {
    "colab": {
      "provenance": [],
      "authorship_tag": "ABX9TyPP+3TkjjzvZ8pUaklKyDBd",
      "include_colab_link": true
    },
    "kernelspec": {
      "name": "python3",
      "display_name": "Python 3"
    },
    "language_info": {
      "name": "python"
    }
  },
  "cells": [
    {
      "cell_type": "markdown",
      "metadata": {
        "id": "view-in-github",
        "colab_type": "text"
      },
      "source": [
        "<a href=\"https://colab.research.google.com/github/jonataneklof2025/Python-for-data-analys-youtube-kurs/blob/main/1_Getting_Started.ipynb\" target=\"_parent\"><img src=\"https://colab.research.google.com/assets/colab-badge.svg\" alt=\"Open In Colab\"/></a>"
      ]
    },
    {
      "cell_type": "code",
      "execution_count": null,
      "metadata": {
        "id": "v5Qt_Fq7Rc2m"
      },
      "outputs": [],
      "source": []
    },
    {
      "cell_type": "code",
      "source": [
        "#Simple test of calculations\n",
        "2+2\n",
        "8*4"
      ],
      "metadata": {
        "colab": {
          "base_uri": "https://localhost:8080/"
        },
        "id": "hlwAP-bYRunT",
        "outputId": "4d42438b-2cd4-41a8-e84f-36d3c1598830"
      },
      "execution_count": null,
      "outputs": [
        {
          "output_type": "execute_result",
          "data": {
            "text/plain": [
              "32"
            ]
          },
          "metadata": {},
          "execution_count": 14
        }
      ]
    },
    {
      "cell_type": "markdown",
      "source": [],
      "metadata": {
        "id": "S80oeTiXS5du"
      }
    },
    {
      "cell_type": "code",
      "source": [
        "!ls"
      ],
      "metadata": {
        "colab": {
          "base_uri": "https://localhost:8080/"
        },
        "id": "YO6MERT_SNYr",
        "outputId": "9d790b78-22e8-4d97-a530-558df833b4e4"
      },
      "execution_count": null,
      "outputs": [
        {
          "output_type": "stream",
          "name": "stdout",
          "text": [
            "sample_data\n"
          ]
        }
      ]
    },
    {
      "cell_type": "code",
      "source": [
        "salary = 100000"
      ],
      "metadata": {
        "id": "LAhZilgfUBSk"
      },
      "execution_count": null,
      "outputs": []
    },
    {
      "cell_type": "code",
      "source": [
        "base_salary = 100000\n",
        "bonus_rate = .10"
      ],
      "metadata": {
        "id": "ykQOwSEpU2hk"
      },
      "execution_count": null,
      "outputs": []
    },
    {
      "cell_type": "code",
      "source": [
        "total_salary = (base_salary) * (1 + bonus_rate)"
      ],
      "metadata": {
        "id": "zd-_99bVU7Zt"
      },
      "execution_count": null,
      "outputs": []
    },
    {
      "cell_type": "code",
      "source": [
        "total_salary"
      ],
      "metadata": {
        "colab": {
          "base_uri": "https://localhost:8080/"
        },
        "id": "r1uPpQJMVNfv",
        "outputId": "52ce1d7a-33c5-4fe0-a0fc-7f55f82adf89"
      },
      "execution_count": null,
      "outputs": [
        {
          "output_type": "execute_result",
          "data": {
            "text/plain": [
              "110000.00000000001"
            ]
          },
          "metadata": {},
          "execution_count": 29
        }
      ]
    },
    {
      "cell_type": "markdown",
      "source": [
        "Note that variable names can't have spaces in them, such as min lön =, needs to be minlön or min_lön"
      ],
      "metadata": {
        "id": "Oevar9mHVojF"
      }
    },
    {
      "cell_type": "code",
      "source": [
        "type(salary)"
      ],
      "metadata": {
        "id": "izbYMtgrVUIt",
        "outputId": "66456f27-0d18-4175-c88e-04e2e101eb16",
        "colab": {
          "base_uri": "https://localhost:8080/"
        }
      },
      "execution_count": null,
      "outputs": [
        {
          "output_type": "execute_result",
          "data": {
            "text/plain": [
              "int"
            ]
          },
          "metadata": {},
          "execution_count": 2
        }
      ]
    },
    {
      "cell_type": "markdown",
      "source": [
        "To delete defined objects, type: del object"
      ],
      "metadata": {
        "id": "ZGH-tU2BI0oQ"
      }
    },
    {
      "cell_type": "markdown",
      "source": [
        "Strings"
      ],
      "metadata": {
        "id": "wDPh_UW0Ngl4"
      }
    },
    {
      "cell_type": "code",
      "source": [
        "skill = \"Python\""
      ],
      "metadata": {
        "id": "iue113zKMUs0"
      },
      "execution_count": null,
      "outputs": []
    },
    {
      "cell_type": "code",
      "source": [
        "skill.upper()"
      ],
      "metadata": {
        "id": "RZB2qztIN1K2",
        "outputId": "a01d618d-7892-43ba-d7e5-04ef241f5fd7",
        "colab": {
          "base_uri": "https://localhost:8080/",
          "height": 35
        }
      },
      "execution_count": null,
      "outputs": [
        {
          "output_type": "execute_result",
          "data": {
            "text/plain": [
              "'PYTHON'"
            ],
            "application/vnd.google.colaboratory.intrinsic+json": {
              "type": "string"
            }
          },
          "metadata": {},
          "execution_count": 20
        }
      ]
    },
    {
      "cell_type": "code",
      "source": [
        "skill.lower()"
      ],
      "metadata": {
        "id": "DNP0x14oN5eG",
        "outputId": "68a0bc81-d1a3-4e71-cb10-d266875f3a66",
        "colab": {
          "base_uri": "https://localhost:8080/",
          "height": 35
        }
      },
      "execution_count": null,
      "outputs": [
        {
          "output_type": "execute_result",
          "data": {
            "text/plain": [
              "'python'"
            ],
            "application/vnd.google.colaboratory.intrinsic+json": {
              "type": "string"
            }
          },
          "metadata": {},
          "execution_count": 24
        }
      ]
    },
    {
      "cell_type": "code",
      "source": [
        "skill.replace(\"P\", \"J\")"
      ],
      "metadata": {
        "id": "fFZ4RQQmOorr",
        "outputId": "a37f0019-5e9c-4ed6-c968-d48e56b66dca",
        "colab": {
          "base_uri": "https://localhost:8080/",
          "height": 35
        }
      },
      "execution_count": null,
      "outputs": [
        {
          "output_type": "execute_result",
          "data": {
            "text/plain": [
              "'Jython'"
            ],
            "application/vnd.google.colaboratory.intrinsic+json": {
              "type": "string"
            }
          },
          "metadata": {},
          "execution_count": 27
        }
      ]
    },
    {
      "cell_type": "code",
      "source": [
        "job_title = \"Data Analyst\""
      ],
      "metadata": {
        "id": "uw6LY6hpOzAr"
      },
      "execution_count": null,
      "outputs": []
    },
    {
      "cell_type": "code",
      "source": [
        "job_title  = job_title.replace(\"Data\", \"Doto\")"
      ],
      "metadata": {
        "id": "ZSOf63x1PDr1"
      },
      "execution_count": null,
      "outputs": []
    },
    {
      "cell_type": "code",
      "source": [
        "job_title.split(sep = \" \", maxsplit=1)"
      ],
      "metadata": {
        "id": "ce4LVexePIPn",
        "outputId": "f9f0cedc-a65a-44b4-e998-bc369611c74c",
        "colab": {
          "base_uri": "https://localhost:8080/"
        }
      },
      "execution_count": null,
      "outputs": [
        {
          "output_type": "execute_result",
          "data": {
            "text/plain": [
              "['Doto', 'Analyst']"
            ]
          },
          "metadata": {},
          "execution_count": 35
        }
      ]
    },
    {
      "cell_type": "code",
      "source": [],
      "metadata": {
        "id": "LAxZhTQDP5lU"
      },
      "execution_count": null,
      "outputs": []
    },
    {
      "cell_type": "markdown",
      "source": [
        "String Formating\n"
      ],
      "metadata": {
        "id": "Q05J3jK7RBzY"
      }
    },
    {
      "cell_type": "code",
      "source": [
        "role = ' Data Analyst'"
      ],
      "metadata": {
        "id": "UigIGHO8BrfA"
      },
      "execution_count": null,
      "outputs": []
    },
    {
      "cell_type": "code",
      "source": [
        "skill = 'Python'"
      ],
      "metadata": {
        "id": "l8oBV4ysBvzB"
      },
      "execution_count": null,
      "outputs": []
    },
    {
      "cell_type": "markdown",
      "source": [
        "inside the parenthesis below you specify what you want in the curly braces the to the left"
      ],
      "metadata": {
        "id": "nOqwEBrxCfW_"
      }
    },
    {
      "cell_type": "code",
      "source": [
        "\"Role: {}\".format(role)"
      ],
      "metadata": {
        "id": "NvOYt3I0BySx",
        "outputId": "9ddf9b9e-5b9b-435a-f276-6b0da8a577fa",
        "colab": {
          "base_uri": "https://localhost:8080/",
          "height": 35
        }
      },
      "execution_count": null,
      "outputs": [
        {
          "output_type": "execute_result",
          "data": {
            "text/plain": [
              "'Role:  Data Analyst'"
            ],
            "application/vnd.google.colaboratory.intrinsic+json": {
              "type": "string"
            }
          },
          "metadata": {},
          "execution_count": 3
        }
      ]
    },
    {
      "cell_type": "code",
      "source": [
        "\"Role {}; Skill Required: {}\".format(role, skill)"
      ],
      "metadata": {
        "id": "mJ8e0j9_Cbo_",
        "outputId": "8be3fe57-cab4-42b2-ff28-1084ec276eee",
        "colab": {
          "base_uri": "https://localhost:8080/",
          "height": 35
        }
      },
      "execution_count": null,
      "outputs": [
        {
          "output_type": "execute_result",
          "data": {
            "text/plain": [
              "'Role  Data Analyst; Skill Required: Python'"
            ],
            "application/vnd.google.colaboratory.intrinsic+json": {
              "type": "string"
            }
          },
          "metadata": {},
          "execution_count": 5
        }
      ]
    },
    {
      "cell_type": "markdown",
      "source": [
        "Method below with f is same as format above"
      ],
      "metadata": {
        "id": "-ujrJq2EDdUZ"
      }
    },
    {
      "cell_type": "code",
      "source": [
        "f\"Role: {role}; Skill Required: {skill}\""
      ],
      "metadata": {
        "id": "7VuWQTNxC5m6",
        "outputId": "428d17dd-9291-4499-9a7f-8d6740321297",
        "colab": {
          "base_uri": "https://localhost:8080/",
          "height": 35
        }
      },
      "execution_count": null,
      "outputs": [
        {
          "output_type": "execute_result",
          "data": {
            "text/plain": [
              "'Role:  Data Analyst; Skill Required: Python'"
            ],
            "application/vnd.google.colaboratory.intrinsic+json": {
              "type": "string"
            }
          },
          "metadata": {},
          "execution_count": 7
        }
      ]
    },
    {
      "cell_type": "code",
      "source": [
        "year_experience = '0123456789'\n",
        "', '.join(year_experience)"
      ],
      "metadata": {
        "id": "wvv7XVcCDYoc",
        "outputId": "1c158499-e1da-42b0-c2f5-dab02bd6d6d8",
        "colab": {
          "base_uri": "https://localhost:8080/",
          "height": 35
        }
      },
      "execution_count": null,
      "outputs": [
        {
          "output_type": "execute_result",
          "data": {
            "text/plain": [
              "'0, 1, 2, 3, 4, 5, 6, 7, 8, 9'"
            ],
            "application/vnd.google.colaboratory.intrinsic+json": {
              "type": "string"
            }
          },
          "metadata": {},
          "execution_count": 9
        }
      ]
    },
    {
      "cell_type": "code",
      "source": [],
      "metadata": {
        "id": "J-wBH4r2EIJx"
      },
      "execution_count": null,
      "outputs": []
    },
    {
      "cell_type": "markdown",
      "source": [
        "Operators"
      ],
      "metadata": {
        "id": "GCjfeyYDEhHQ"
      }
    },
    {
      "cell_type": "code",
      "source": [
        "apa = \"apa\""
      ],
      "metadata": {
        "id": "tOgx2dgoEjGj"
      },
      "execution_count": null,
      "outputs": []
    },
    {
      "cell_type": "code",
      "source": [
        "lover = \"lover\""
      ],
      "metadata": {
        "id": "yGlNh2FMFFzH"
      },
      "execution_count": null,
      "outputs": []
    },
    {
      "cell_type": "code",
      "source": [
        "apa_lover = apa.__add__(lover)"
      ],
      "metadata": {
        "id": "z6fFESHZFeFS"
      },
      "execution_count": null,
      "outputs": []
    },
    {
      "cell_type": "code",
      "source": [
        "apa_lover"
      ],
      "metadata": {
        "id": "1aeWW1wDFj_i",
        "outputId": "744368a8-95c2-48c4-d7f3-a60efe225bb4",
        "colab": {
          "base_uri": "https://localhost:8080/",
          "height": 35
        }
      },
      "execution_count": null,
      "outputs": [
        {
          "output_type": "execute_result",
          "data": {
            "text/plain": [
              "'apalover'"
            ],
            "application/vnd.google.colaboratory.intrinsic+json": {
              "type": "string"
            }
          },
          "metadata": {},
          "execution_count": 15
        }
      ]
    },
    {
      "cell_type": "code",
      "source": [
        "x = 1"
      ],
      "metadata": {
        "id": "uaFmFN2tFouj"
      },
      "execution_count": null,
      "outputs": []
    },
    {
      "cell_type": "code",
      "source": [
        "x +=1"
      ],
      "metadata": {
        "id": "E919f0dIG89b"
      },
      "execution_count": null,
      "outputs": []
    },
    {
      "cell_type": "code",
      "source": [
        "x"
      ],
      "metadata": {
        "id": "FQJLKt11HIH1",
        "outputId": "e0aa4724-4d74-47ac-aaa1-8ba5ab92658a",
        "colab": {
          "base_uri": "https://localhost:8080/"
        }
      },
      "execution_count": null,
      "outputs": [
        {
          "output_type": "execute_result",
          "data": {
            "text/plain": [
              "2"
            ]
          },
          "metadata": {},
          "execution_count": 18
        }
      ]
    },
    {
      "cell_type": "code",
      "source": [
        "x +=8"
      ],
      "metadata": {
        "id": "voNTuA4zHImN"
      },
      "execution_count": null,
      "outputs": []
    },
    {
      "cell_type": "code",
      "source": [
        "x"
      ],
      "metadata": {
        "id": "PtOBuwsyHMQl",
        "outputId": "f97bb091-6c80-40f7-abc4-7208900894d2",
        "colab": {
          "base_uri": "https://localhost:8080/"
        }
      },
      "execution_count": null,
      "outputs": [
        {
          "output_type": "execute_result",
          "data": {
            "text/plain": [
              "10"
            ]
          },
          "metadata": {},
          "execution_count": 20
        }
      ]
    },
    {
      "cell_type": "markdown",
      "source": [
        "Note that += means that we want to add to x the value right of equal sign\n"
      ],
      "metadata": {
        "id": "a8mcCzhrHYrK"
      }
    },
    {
      "cell_type": "code",
      "source": [
        "x += -8"
      ],
      "metadata": {
        "id": "ntf60YrvHMcl"
      },
      "execution_count": null,
      "outputs": []
    },
    {
      "cell_type": "code",
      "source": [
        "x"
      ],
      "metadata": {
        "id": "WfE2lUG8HTBe",
        "outputId": "96cd2c4e-f300-4a9d-ffd5-6fd13618a379",
        "colab": {
          "base_uri": "https://localhost:8080/"
        }
      },
      "execution_count": null,
      "outputs": [
        {
          "output_type": "execute_result",
          "data": {
            "text/plain": [
              "2"
            ]
          },
          "metadata": {},
          "execution_count": 22
        }
      ]
    },
    {
      "cell_type": "code",
      "source": [
        "y = 87"
      ],
      "metadata": {
        "id": "D9Dm6K5DHTOe"
      },
      "execution_count": null,
      "outputs": []
    },
    {
      "cell_type": "code",
      "source": [
        "x<=y"
      ],
      "metadata": {
        "id": "cLzaxTWuHnwg",
        "outputId": "5023ac3a-0f91-4404-d47d-bfd24187ed81",
        "colab": {
          "base_uri": "https://localhost:8080/"
        }
      },
      "execution_count": null,
      "outputs": [
        {
          "output_type": "execute_result",
          "data": {
            "text/plain": [
              "True"
            ]
          },
          "metadata": {},
          "execution_count": 28
        }
      ]
    },
    {
      "cell_type": "code",
      "source": [
        "x==y"
      ],
      "metadata": {
        "id": "txt539h6H21C",
        "outputId": "d8a0520b-7fc0-449f-b922-f6c9959c58a2",
        "colab": {
          "base_uri": "https://localhost:8080/"
        }
      },
      "execution_count": null,
      "outputs": [
        {
          "output_type": "execute_result",
          "data": {
            "text/plain": [
              "False"
            ]
          },
          "metadata": {},
          "execution_count": 29
        }
      ]
    },
    {
      "cell_type": "markdown",
      "source": [
        "Conditional statements\n"
      ],
      "metadata": {
        "id": "bYe4Hdw9ISZl"
      }
    },
    {
      "cell_type": "code",
      "source": [
        "if True:\n",
        "  print(\"What's up Data Nerds\")"
      ],
      "metadata": {
        "id": "dXojtRfEIUGV",
        "outputId": "4b8bf732-bdc9-4d2b-b74b-70b20e89208e",
        "colab": {
          "base_uri": "https://localhost:8080/"
        }
      },
      "execution_count": null,
      "outputs": [
        {
          "output_type": "stream",
          "name": "stdout",
          "text": [
            "What's up Data Nerds\n"
          ]
        }
      ]
    },
    {
      "cell_type": "code",
      "source": [
        "applicant_skill = 'Python'\n",
        "job_skill = 'SQL'"
      ],
      "metadata": {
        "id": "s77MaB33KbAb"
      },
      "execution_count": null,
      "outputs": []
    },
    {
      "cell_type": "code",
      "source": [
        "if job_skill == applicatn_skill:\n",
        "  print('Skills Match')"
      ],
      "metadata": {
        "id": "Xj-8-WFYKuqN",
        "outputId": "b49786d5-d72c-4e8c-894a-3642265fe3c6",
        "colab": {
          "base_uri": "https://localhost:8080/"
        }
      },
      "execution_count": null,
      "outputs": [
        {
          "output_type": "stream",
          "name": "stdout",
          "text": [
            "Skills Match\n"
          ]
        }
      ]
    },
    {
      "cell_type": "markdown",
      "source": [
        "Else below is what we want if the previous conditionals are false"
      ],
      "metadata": {
        "id": "UV4WG3TWL_jA"
      }
    },
    {
      "cell_type": "code",
      "source": [
        "year_experience = 3\n",
        "\n",
        "if job_skill == applicant_skill:\n",
        "  print('Skills Match')\n",
        "elif year_experience >= 5:\n",
        "  print('Enough Experience; No SQL')\n",
        "else:\n",
        "  print('No Skill or Experience')"
      ],
      "metadata": {
        "id": "--iIDy9cK5su",
        "outputId": "c187e53f-7130-41d3-9237-f7e1eb04ea76",
        "colab": {
          "base_uri": "https://localhost:8080/"
        }
      },
      "execution_count": null,
      "outputs": [
        {
          "output_type": "stream",
          "name": "stdout",
          "text": [
            "No Skill or Experience\n"
          ]
        }
      ]
    },
    {
      "cell_type": "markdown",
      "source": [
        "Lists"
      ],
      "metadata": {
        "id": "pF3Z2TEbMjIh"
      }
    },
    {
      "cell_type": "code",
      "source": [
        "job_skills = ['sql', 'tableau', 'excel']"
      ],
      "metadata": {
        "id": "AHTU-_MdLoyr"
      },
      "execution_count": null,
      "outputs": []
    },
    {
      "cell_type": "code",
      "source": [
        "job_skills.append('python')"
      ],
      "metadata": {
        "id": "cjiVXCADNJvf"
      },
      "execution_count": null,
      "outputs": []
    },
    {
      "cell_type": "code",
      "source": [
        "job_skills"
      ],
      "metadata": {
        "id": "hczvkBZDNZZv",
        "outputId": "7d91fab8-02f9-4897-b593-28fb8aabdcb0",
        "colab": {
          "base_uri": "https://localhost:8080/"
        }
      },
      "execution_count": null,
      "outputs": [
        {
          "output_type": "execute_result",
          "data": {
            "text/plain": [
              "['sql', 'tableau', 'excel', 'python']"
            ]
          },
          "metadata": {},
          "execution_count": 41
        }
      ]
    },
    {
      "cell_type": "code",
      "source": [
        "job_skills.remove('tableau')"
      ],
      "metadata": {
        "id": "BSSEVBLlNbNu"
      },
      "execution_count": null,
      "outputs": []
    },
    {
      "cell_type": "code",
      "source": [
        "job_skills"
      ],
      "metadata": {
        "id": "pcL7qGF-NhBw",
        "outputId": "a586ac41-81cf-49d2-b47b-7f5e779df664",
        "colab": {
          "base_uri": "https://localhost:8080/"
        }
      },
      "execution_count": null,
      "outputs": [
        {
          "output_type": "execute_result",
          "data": {
            "text/plain": [
              "['sql', 'excel', 'python']"
            ]
          },
          "metadata": {},
          "execution_count": 43
        }
      ]
    },
    {
      "cell_type": "code",
      "source": [
        "len(job_skills)"
      ],
      "metadata": {
        "id": "QMRQOTt_NiSr",
        "outputId": "165e24eb-b66c-413c-9082-f7b8de2baf8f",
        "colab": {
          "base_uri": "https://localhost:8080/"
        }
      },
      "execution_count": null,
      "outputs": [
        {
          "output_type": "execute_result",
          "data": {
            "text/plain": [
              "3"
            ]
          },
          "metadata": {},
          "execution_count": 44
        }
      ]
    },
    {
      "cell_type": "code",
      "source": [
        "job_skills[2]"
      ],
      "metadata": {
        "id": "V9QOZvwdNt2l",
        "outputId": "7d21cb0c-a720-4bc0-8ede-450e0d901401",
        "colab": {
          "base_uri": "https://localhost:8080/",
          "height": 35
        }
      },
      "execution_count": null,
      "outputs": [
        {
          "output_type": "execute_result",
          "data": {
            "text/plain": [
              "'python'"
            ],
            "application/vnd.google.colaboratory.intrinsic+json": {
              "type": "string"
            }
          },
          "metadata": {},
          "execution_count": 45
        }
      ]
    },
    {
      "cell_type": "code",
      "source": [
        "job_skills.insert(2, 'tablaeu')"
      ],
      "metadata": {
        "id": "aUrcV5V-N5mP"
      },
      "execution_count": null,
      "outputs": []
    },
    {
      "cell_type": "code",
      "source": [
        "job_skills"
      ],
      "metadata": {
        "id": "6YL1tBvNOEEc",
        "outputId": "775b4351-58b8-45da-f3d5-bfe5cd973a55",
        "colab": {
          "base_uri": "https://localhost:8080/"
        }
      },
      "execution_count": null,
      "outputs": [
        {
          "output_type": "execute_result",
          "data": {
            "text/plain": [
              "['sql', 'excel', 'tablaeu', 'python']"
            ]
          },
          "metadata": {},
          "execution_count": 47
        }
      ]
    },
    {
      "cell_type": "code",
      "source": [],
      "metadata": {
        "id": "qcDaFadxOGHr"
      },
      "execution_count": null,
      "outputs": []
    },
    {
      "cell_type": "markdown",
      "source": [
        "Note that for lists when we want to select or modify specific entries the first index is 0, then 1...."
      ],
      "metadata": {
        "id": "vJHmHruEOUqQ"
      }
    },
    {
      "cell_type": "code",
      "source": [
        "job_skills[0:2]"
      ],
      "metadata": {
        "id": "-VFpMHklObg-",
        "outputId": "f3090d0b-8dd6-4d83-a5d6-44a92ef7ab2a",
        "colab": {
          "base_uri": "https://localhost:8080/"
        }
      },
      "execution_count": null,
      "outputs": [
        {
          "output_type": "execute_result",
          "data": {
            "text/plain": [
              "['sql', 'tableau']"
            ]
          },
          "metadata": {},
          "execution_count": 60
        }
      ]
    },
    {
      "cell_type": "markdown",
      "source": [
        "Note that lline above the 2 inside[]is not included, i.e need to do from 0 to 3 to get all three"
      ],
      "metadata": {
        "id": "ilhGx_qoPElz"
      }
    },
    {
      "cell_type": "code",
      "source": [
        "skill1, skill2, skill3 = job_skills"
      ],
      "metadata": {
        "id": "aHgdkOfXOkD3"
      },
      "execution_count": null,
      "outputs": []
    },
    {
      "cell_type": "code",
      "source": [
        "print(skill1)"
      ],
      "metadata": {
        "id": "SUjwmkZ1QBMh",
        "outputId": "9b7bda1c-a8de-4b46-d7ec-5b61cd13fef1",
        "colab": {
          "base_uri": "https://localhost:8080/"
        }
      },
      "execution_count": null,
      "outputs": [
        {
          "output_type": "stream",
          "name": "stdout",
          "text": [
            "sql\n"
          ]
        }
      ]
    },
    {
      "cell_type": "markdown",
      "source": [
        " DICTIONARIES"
      ],
      "metadata": {
        "id": "v1MvLdlrQubE"
      }
    },
    {
      "cell_type": "code",
      "source": [
        "job_type_skills = {'database': 'postgresql',\n",
        "                   'language': 'python',\n",
        "                   'library': 'pandas'}"
      ],
      "metadata": {
        "id": "6np3sjQ9rB6I"
      },
      "execution_count": null,
      "outputs": []
    },
    {
      "cell_type": "code",
      "source": [
        "job_type_skills"
      ],
      "metadata": {
        "id": "XgLxrNtSrWga",
        "outputId": "885ed5f6-3062-4f5c-be2c-c83298e4f5fa",
        "colab": {
          "base_uri": "https://localhost:8080/"
        }
      },
      "execution_count": null,
      "outputs": [
        {
          "output_type": "execute_result",
          "data": {
            "text/plain": [
              "{'database': 'postgresql', 'language': 'python', 'library': 'pandas'}"
            ]
          },
          "metadata": {},
          "execution_count": 3
        }
      ]
    },
    {
      "cell_type": "code",
      "source": [
        "job_type_skills['database']"
      ],
      "metadata": {
        "id": "fM6E7BMFr6w2",
        "outputId": "2cdb81eb-e121-40cd-bb21-268342a4675a",
        "colab": {
          "base_uri": "https://localhost:8080/",
          "height": 35
        }
      },
      "execution_count": null,
      "outputs": [
        {
          "output_type": "execute_result",
          "data": {
            "text/plain": [
              "'postgresql'"
            ],
            "application/vnd.google.colaboratory.intrinsic+json": {
              "type": "string"
            }
          },
          "metadata": {},
          "execution_count": 5
        }
      ]
    },
    {
      "cell_type": "code",
      "source": [
        "job_type_skills.keys()"
      ],
      "metadata": {
        "id": "6t1N8L_xsT3I",
        "outputId": "653f2eec-e723-4d3a-8520-c8884c64f2f5",
        "colab": {
          "base_uri": "https://localhost:8080/"
        }
      },
      "execution_count": null,
      "outputs": [
        {
          "output_type": "execute_result",
          "data": {
            "text/plain": [
              "dict_keys(['database', 'language', 'library'])"
            ]
          },
          "metadata": {},
          "execution_count": 6
        }
      ]
    },
    {
      "cell_type": "markdown",
      "source": [
        "SETS"
      ],
      "metadata": {
        "id": "bp7po4uAtTN_"
      }
    },
    {
      "cell_type": "code",
      "source": [
        "job_skills = {'tablaeu', 'sql', 'python', 'statistics'}"
      ],
      "metadata": {
        "id": "lGmEYj06sc0p"
      },
      "execution_count": null,
      "outputs": []
    },
    {
      "cell_type": "code",
      "source": [
        "job_skills"
      ],
      "metadata": {
        "id": "ldtnJ_Pntk3x",
        "outputId": "724147ff-8ef4-495a-f303-ac281dfc2f96",
        "colab": {
          "base_uri": "https://localhost:8080/"
        }
      },
      "execution_count": null,
      "outputs": [
        {
          "output_type": "execute_result",
          "data": {
            "text/plain": [
              "{'python', 'sql', 'statistics', 'tablaeu'}"
            ]
          },
          "metadata": {},
          "execution_count": 9
        }
      ]
    },
    {
      "cell_type": "code",
      "source": [
        "job_skills.add('looker')"
      ],
      "metadata": {
        "id": "awXdD1bmtmTp"
      },
      "execution_count": null,
      "outputs": []
    },
    {
      "cell_type": "code",
      "source": [
        "job_skills"
      ],
      "metadata": {
        "id": "xFuOjgU-t386",
        "outputId": "1069060b-f556-4937-e6e2-f4c15e58bb18",
        "colab": {
          "base_uri": "https://localhost:8080/"
        }
      },
      "execution_count": null,
      "outputs": [
        {
          "output_type": "execute_result",
          "data": {
            "text/plain": [
              "{'looker', 'python', 'sql', 'statistics', 'tablaeu'}"
            ]
          },
          "metadata": {},
          "execution_count": 12
        }
      ]
    },
    {
      "cell_type": "code",
      "source": [
        "job_skills.remove('tablaeu')"
      ],
      "metadata": {
        "id": "6VyyigzYt4xq"
      },
      "execution_count": null,
      "outputs": []
    },
    {
      "cell_type": "code",
      "source": [
        "job_skills"
      ],
      "metadata": {
        "id": "_sbe5vjOuNbM",
        "outputId": "09c54e42-568d-4d42-d7a7-39d843afa236",
        "colab": {
          "base_uri": "https://localhost:8080/"
        }
      },
      "execution_count": null,
      "outputs": [
        {
          "output_type": "execute_result",
          "data": {
            "text/plain": [
              "{'looker', 'python', 'sql', 'statistics'}"
            ]
          },
          "metadata": {},
          "execution_count": 14
        }
      ]
    },
    {
      "cell_type": "markdown",
      "source": [
        "OPERATORS PART 2"
      ],
      "metadata": {
        "id": "uT4dlu1fucox"
      }
    },
    {
      "cell_type": "code",
      "source": [
        "job_work_from_home = True\n",
        "job_health_insurance = True\n",
        "\n",
        "job_work_from_home and job_health_insurance"
      ],
      "metadata": {
        "id": "Dxk2gmY_uOQF",
        "outputId": "12ac003f-4e3c-40aa-8dd2-cbcfee4aa7f3",
        "colab": {
          "base_uri": "https://localhost:8080/"
        }
      },
      "execution_count": null,
      "outputs": [
        {
          "output_type": "execute_result",
          "data": {
            "text/plain": [
              "True"
            ]
          },
          "metadata": {},
          "execution_count": 15
        }
      ]
    },
    {
      "cell_type": "code",
      "source": [
        "job_work_from_home = True\n",
        "job_health_insurance = False\n",
        "\n",
        "job_work_from_home or job_health_insurance"
      ],
      "metadata": {
        "id": "nEYx_F8_xRvJ",
        "outputId": "ffae97a5-e935-42a0-dcfa-4831ca533ac6",
        "colab": {
          "base_uri": "https://localhost:8080/"
        }
      },
      "execution_count": null,
      "outputs": [
        {
          "output_type": "execute_result",
          "data": {
            "text/plain": [
              "True"
            ]
          },
          "metadata": {},
          "execution_count": 17
        }
      ]
    },
    {
      "cell_type": "code",
      "source": [
        "not True"
      ],
      "metadata": {
        "id": "HZGGyiSCxnzT",
        "outputId": "a3cdb14e-e07e-4751-8b6e-224a6c78a3c2",
        "colab": {
          "base_uri": "https://localhost:8080/"
        }
      },
      "execution_count": null,
      "outputs": [
        {
          "output_type": "execute_result",
          "data": {
            "text/plain": [
              "False"
            ]
          },
          "metadata": {},
          "execution_count": 18
        }
      ]
    },
    {
      "cell_type": "code",
      "source": [
        "\"Data\" in \"Data Nerd\""
      ],
      "metadata": {
        "id": "6T6JgfiuxvWx",
        "outputId": "bfa3567b-9116-4619-8635-195534c2a16b",
        "colab": {
          "base_uri": "https://localhost:8080/"
        }
      },
      "execution_count": null,
      "outputs": [
        {
          "output_type": "execute_result",
          "data": {
            "text/plain": [
              "True"
            ]
          },
          "metadata": {},
          "execution_count": 19
        }
      ]
    },
    {
      "cell_type": "code",
      "source": [
        "job_skills = ['python', 'r', 'sql']"
      ],
      "metadata": {
        "id": "bAuLNOimx-zb"
      },
      "execution_count": null,
      "outputs": []
    },
    {
      "cell_type": "code",
      "source": [
        "'python' in job_skills"
      ],
      "metadata": {
        "id": "RGqbChHfyF4T",
        "outputId": "c84a281c-75fa-441d-a0ea-d74d7fd5b786",
        "colab": {
          "base_uri": "https://localhost:8080/"
        }
      },
      "execution_count": null,
      "outputs": [
        {
          "output_type": "execute_result",
          "data": {
            "text/plain": [
              "True"
            ]
          },
          "metadata": {},
          "execution_count": 21
        }
      ]
    },
    {
      "cell_type": "code",
      "source": [
        "job_skills is job_skills"
      ],
      "metadata": {
        "id": "vR0CCjMOyIxb",
        "outputId": "85bc1c1e-68b1-4e99-ec5a-4a265755fefb",
        "colab": {
          "base_uri": "https://localhost:8080/"
        }
      },
      "execution_count": null,
      "outputs": [
        {
          "output_type": "execute_result",
          "data": {
            "text/plain": [
              "True"
            ]
          },
          "metadata": {},
          "execution_count": 22
        }
      ]
    },
    {
      "cell_type": "markdown",
      "source": [
        " LOOPS"
      ],
      "metadata": {
        "id": "twa-hmQIy1_j"
      }
    },
    {
      "cell_type": "code",
      "source": [
        "numbers = [0, 1, 2, 3, 4, 5]\n",
        "\n",
        "for number in numbers:\n",
        "  print(number)"
      ],
      "metadata": {
        "id": "aHZ7kAAUyaDN",
        "outputId": "e7c318de-faa8-4671-e233-6fbe94a05e8a",
        "colab": {
          "base_uri": "https://localhost:8080/"
        }
      },
      "execution_count": 1,
      "outputs": [
        {
          "output_type": "stream",
          "name": "stdout",
          "text": [
            "0\n",
            "1\n",
            "2\n",
            "3\n",
            "4\n",
            "5\n"
          ]
        }
      ]
    },
    {
      "cell_type": "code",
      "source": [
        "numbers = [0, 1, 2, 3, 4, 5]\n",
        "\n",
        "for number in numbers:\n",
        "  print(number)\n",
        ""
      ],
      "metadata": {
        "id": "CMOy8nM-rON4",
        "outputId": "1c1103b4-9fbf-41bc-c6f8-6ad2afdf0d49",
        "colab": {
          "base_uri": "https://localhost:8080/"
        }
      },
      "execution_count": 3,
      "outputs": [
        {
          "output_type": "stream",
          "name": "stdout",
          "text": [
            "0\n",
            "1\n",
            "2\n",
            "3\n",
            "4\n",
            "5\n"
          ]
        }
      ]
    },
    {
      "cell_type": "code",
      "source": [
        "count = 1\n",
        "while count < 5:\n",
        "  print(count)\n",
        "  count += 1"
      ],
      "metadata": {
        "id": "5ZbbMzvvrgjC",
        "outputId": "31d35f55-9e29-4740-8588-a2ff2c860996",
        "colab": {
          "base_uri": "https://localhost:8080/"
        }
      },
      "execution_count": 4,
      "outputs": [
        {
          "output_type": "stream",
          "name": "stdout",
          "text": [
            "1\n",
            "2\n",
            "3\n",
            "4\n"
          ]
        }
      ]
    },
    {
      "cell_type": "code",
      "source": [
        "years_experience = {\n",
        "    'Luke': 3,\n",
        "    'kelly': 6,\n",
        "    'Ken': 4,\n",
        "    'Alex': 3,\n",
        "    'Mary': 7\n",
        "}\n",
        "\n",
        "years = 0\n",
        "index = 0\n",
        "\n",
        "years_list = list(years_experience.items())\n",
        "while years < 5:\n",
        "  key, years = years_list[index]\n",
        "  if years >=5:\n",
        "    print(key, years)\n",
        "  index += 1\n",
        "\n",
        "\n"
      ],
      "metadata": {
        "id": "cg3_21RitHv9",
        "outputId": "1044f35b-d92f-417c-89a3-0af08d9cf609",
        "colab": {
          "base_uri": "https://localhost:8080/"
        }
      },
      "execution_count": 7,
      "outputs": [
        {
          "output_type": "stream",
          "name": "stdout",
          "text": [
            "kelly 6\n"
          ]
        }
      ]
    },
    {
      "cell_type": "markdown",
      "source": [
        "FUNCTIONS"
      ],
      "metadata": {
        "id": "t_sLLq9xvC6a"
      }
    },
    {
      "cell_type": "code",
      "source": [
        "base_salary = 100000\n",
        "bonus_rate = 0.1\n",
        "\n",
        "def calculate_salary(base_salary, bonus_rate=0.1):\n",
        "\n",
        "  total_salary = base_salary * (1 + bonus_rate)\n",
        "\n",
        "  return total_salary\n",
        "\n",
        "\n",
        "\n",
        ""
      ],
      "metadata": {
        "id": "VHBOrYc7vrZM"
      },
      "execution_count": 20,
      "outputs": []
    },
    {
      "cell_type": "code",
      "source": [
        "calculate_salary(100000)"
      ],
      "metadata": {
        "id": "2ImKBdFK0Nu5",
        "outputId": "fbea0de6-a12a-4da3-e8a1-3e545e592784",
        "colab": {
          "base_uri": "https://localhost:8080/"
        }
      },
      "execution_count": 22,
      "outputs": [
        {
          "output_type": "execute_result",
          "data": {
            "text/plain": [
              "110000.00000000001"
            ]
          },
          "metadata": {},
          "execution_count": 22
        }
      ]
    },
    {
      "cell_type": "markdown",
      "source": [
        "Start at Lambda"
      ],
      "metadata": {
        "id": "IkQkG9eg1eMx"
      }
    },
    {
      "cell_type": "code",
      "source": [],
      "metadata": {
        "id": "lPTfRJen0bnB"
      },
      "execution_count": null,
      "outputs": []
    }
  ]
}