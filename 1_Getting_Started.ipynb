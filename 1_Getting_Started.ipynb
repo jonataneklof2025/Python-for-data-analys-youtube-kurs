{
  "nbformat": 4,
  "nbformat_minor": 0,
  "metadata": {
    "colab": {
      "provenance": [],
      "authorship_tag": "ABX9TyPTm7wuX9XdcwFq6Wkbh14W",
      "include_colab_link": true
    },
    "kernelspec": {
      "name": "python3",
      "display_name": "Python 3"
    },
    "language_info": {
      "name": "python"
    }
  },
  "cells": [
    {
      "cell_type": "markdown",
      "metadata": {
        "id": "view-in-github",
        "colab_type": "text"
      },
      "source": [
        "<a href=\"https://colab.research.google.com/github/jonataneklof2025/Python-for-data-analys-youtube-kurs/blob/main/1_Getting_Started.ipynb\" target=\"_parent\"><img src=\"https://colab.research.google.com/assets/colab-badge.svg\" alt=\"Open In Colab\"/></a>"
      ]
    },
    {
      "cell_type": "code",
      "execution_count": null,
      "metadata": {
        "id": "v5Qt_Fq7Rc2m"
      },
      "outputs": [],
      "source": []
    },
    {
      "cell_type": "code",
      "source": [
        "#Simple test of calculations\n",
        "2+2\n",
        "8*4"
      ],
      "metadata": {
        "colab": {
          "base_uri": "https://localhost:8080/"
        },
        "id": "hlwAP-bYRunT",
        "outputId": "4d42438b-2cd4-41a8-e84f-36d3c1598830"
      },
      "execution_count": 14,
      "outputs": [
        {
          "output_type": "execute_result",
          "data": {
            "text/plain": [
              "32"
            ]
          },
          "metadata": {},
          "execution_count": 14
        }
      ]
    },
    {
      "cell_type": "markdown",
      "source": [],
      "metadata": {
        "id": "S80oeTiXS5du"
      }
    },
    {
      "cell_type": "code",
      "source": [
        "!ls"
      ],
      "metadata": {
        "colab": {
          "base_uri": "https://localhost:8080/"
        },
        "id": "YO6MERT_SNYr",
        "outputId": "9d790b78-22e8-4d97-a530-558df833b4e4"
      },
      "execution_count": 15,
      "outputs": [
        {
          "output_type": "stream",
          "name": "stdout",
          "text": [
            "sample_data\n"
          ]
        }
      ]
    },
    {
      "cell_type": "code",
      "source": [
        "salary = 100000"
      ],
      "metadata": {
        "id": "LAhZilgfUBSk"
      },
      "execution_count": 18,
      "outputs": []
    },
    {
      "cell_type": "code",
      "source": [
        "base_salary = 100000\n",
        "bonus_rate = .10"
      ],
      "metadata": {
        "id": "ykQOwSEpU2hk"
      },
      "execution_count": 21,
      "outputs": []
    },
    {
      "cell_type": "code",
      "source": [
        "total_salary = (base_salary) * (1 + bonus_rate)"
      ],
      "metadata": {
        "id": "zd-_99bVU7Zt"
      },
      "execution_count": 28,
      "outputs": []
    },
    {
      "cell_type": "code",
      "source": [
        "total_salary"
      ],
      "metadata": {
        "colab": {
          "base_uri": "https://localhost:8080/"
        },
        "id": "r1uPpQJMVNfv",
        "outputId": "52ce1d7a-33c5-4fe0-a0fc-7f55f82adf89"
      },
      "execution_count": 29,
      "outputs": [
        {
          "output_type": "execute_result",
          "data": {
            "text/plain": [
              "110000.00000000001"
            ]
          },
          "metadata": {},
          "execution_count": 29
        }
      ]
    },
    {
      "cell_type": "markdown",
      "source": [
        "Note that variable names can't have spaces in them, such as min lön =, needs to be minlön or min_lön"
      ],
      "metadata": {
        "id": "Oevar9mHVojF"
      }
    },
    {
      "cell_type": "code",
      "source": [],
      "metadata": {
        "id": "izbYMtgrVUIt"
      },
      "execution_count": null,
      "outputs": []
    }
  ]
}