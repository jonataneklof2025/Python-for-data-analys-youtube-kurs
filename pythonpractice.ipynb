{
  "nbformat": 4,
  "nbformat_minor": 0,
  "metadata": {
    "colab": {
      "provenance": [],
      "authorship_tag": "ABX9TyNijqgOPUUENVFRHu0qeHZq",
      "include_colab_link": true
    },
    "kernelspec": {
      "name": "python3",
      "display_name": "Python 3"
    },
    "language_info": {
      "name": "python"
    }
  },
  "cells": [
    {
      "cell_type": "markdown",
      "metadata": {
        "id": "view-in-github",
        "colab_type": "text"
      },
      "source": [
        "<a href=\"https://colab.research.google.com/github/jonataneklof2025/Python-for-data-analys-youtube-kurs/blob/main/pythonpractice.ipynb\" target=\"_parent\"><img src=\"https://colab.research.google.com/assets/colab-badge.svg\" alt=\"Open In Colab\"/></a>"
      ]
    },
    {
      "cell_type": "markdown",
      "source": [
        "CODE BELOW IS BASED ON PRACTICE PROBLEMS FROM CHAT GPT\n",
        "  Each section is from data analytics youtube course"
      ],
      "metadata": {
        "id": "16Ue02mxwiVm"
      }
    },
    {
      "cell_type": "markdown",
      "source": [
        "# Variables"
      ],
      "metadata": {
        "id": "HfOlgkHWxPg7"
      }
    },
    {
      "cell_type": "code",
      "execution_count": null,
      "metadata": {
        "colab": {
          "base_uri": "https://localhost:8080/"
        },
        "id": "WmCR54QdudXd",
        "outputId": "cf9a6e78-671c-426d-f512-a5f80d12a321"
      },
      "outputs": [
        {
          "output_type": "stream",
          "name": "stdout",
          "text": [
            "Jonatan Eklöf 24\n"
          ]
        }
      ],
      "source": [
        "name = \"Jonatan Eklöf\"\n",
        "age = 24\n",
        "print(name, age)"
      ]
    },
    {
      "cell_type": "code",
      "source": [
        "a = 5\n",
        "b = 10"
      ],
      "metadata": {
        "id": "asZYW1JDxXeD"
      },
      "execution_count": null,
      "outputs": []
    },
    {
      "cell_type": "code",
      "source": [
        "temp = a"
      ],
      "metadata": {
        "id": "yMqCmtmexn--"
      },
      "execution_count": null,
      "outputs": []
    },
    {
      "cell_type": "code",
      "source": [
        "a = b"
      ],
      "metadata": {
        "id": "fBljC8Mfx3WY"
      },
      "execution_count": null,
      "outputs": []
    },
    {
      "cell_type": "code",
      "source": [
        "b = temp"
      ],
      "metadata": {
        "id": "ENzdmoHSx5Xv"
      },
      "execution_count": null,
      "outputs": []
    },
    {
      "cell_type": "code",
      "source": [
        "print(a, b)"
      ],
      "metadata": {
        "colab": {
          "base_uri": "https://localhost:8080/"
        },
        "id": "zP15B9Wpx7Gf",
        "outputId": "dd948a23-b8db-4eed-d2cf-e77170287eb1"
      },
      "execution_count": null,
      "outputs": [
        {
          "output_type": "stream",
          "name": "stdout",
          "text": [
            "10 5\n"
          ]
        }
      ]
    },
    {
      "cell_type": "code",
      "source": [
        "greeting = \"Hello\"\n",
        "place = \"World\""
      ],
      "metadata": {
        "id": "6wpSHVipx7wH"
      },
      "execution_count": null,
      "outputs": []
    },
    {
      "cell_type": "code",
      "source": [
        "print(greeting, place)"
      ],
      "metadata": {
        "colab": {
          "base_uri": "https://localhost:8080/"
        },
        "id": "mcQxVpAyySTy",
        "outputId": "4df3c52b-766f-40c3-c63c-c0e14d715b79"
      },
      "execution_count": null,
      "outputs": [
        {
          "output_type": "stream",
          "name": "stdout",
          "text": [
            "Hello World\n"
          ]
        }
      ]
    },
    {
      "cell_type": "code",
      "source": [
        "year_of_birth = 2000\n",
        "current_year = 2025"
      ],
      "metadata": {
        "id": "ptTYGqyKyVai"
      },
      "execution_count": null,
      "outputs": []
    },
    {
      "cell_type": "code",
      "source": [
        "users_age = current_year - year_of_birth"
      ],
      "metadata": {
        "id": "-v-20H8MynvU"
      },
      "execution_count": null,
      "outputs": []
    },
    {
      "cell_type": "code",
      "source": [
        "print(users_age)"
      ],
      "metadata": {
        "colab": {
          "base_uri": "https://localhost:8080/"
        },
        "id": "opXtAGAjysS8",
        "outputId": "9a743974-c8d4-4ada-e366-756fe9489d4a"
      },
      "execution_count": null,
      "outputs": [
        {
          "output_type": "stream",
          "name": "stdout",
          "text": [
            "25\n"
          ]
        }
      ]
    },
    {
      "cell_type": "code",
      "source": [],
      "metadata": {
        "id": "ryjWCX-fytY0"
      },
      "execution_count": null,
      "outputs": []
    },
    {
      "cell_type": "markdown",
      "source": [
        "#Data Types\n"
      ],
      "metadata": {
        "id": "fiEQE-Lcyy03"
      }
    },
    {
      "cell_type": "code",
      "source": [
        "sales_2023 = 50000\n",
        "growth_rate = 0.08\n",
        "\n",
        "sales_2023 * (1 + growth_rate)"
      ],
      "metadata": {
        "colab": {
          "base_uri": "https://localhost:8080/"
        },
        "id": "mmppEmaVy8GG",
        "outputId": "fc2bfcb8-d74b-41b3-8b7e-082eb92bae7e"
      },
      "execution_count": null,
      "outputs": [
        {
          "output_type": "execute_result",
          "data": {
            "text/plain": [
              "54000.0"
            ]
          },
          "metadata": {},
          "execution_count": 18
        }
      ]
    },
    {
      "cell_type": "code",
      "source": [
        "sales = 15000\n",
        "is_profitable = sales > 10000\n",
        "print(\"The Business is profitable:\", is_profitable)"
      ],
      "metadata": {
        "colab": {
          "base_uri": "https://localhost:8080/"
        },
        "id": "yFE3AS4o71vf",
        "outputId": "6370a394-a49f-4402-b5ae-456fc41e13e7"
      },
      "execution_count": null,
      "outputs": [
        {
          "output_type": "stream",
          "name": "stdout",
          "text": [
            "The Business is profitable: True\n"
          ]
        }
      ]
    },
    {
      "cell_type": "code",
      "source": [
        "sales_per_month = [1200, 1500, 1700, 1600, 2000]"
      ],
      "metadata": {
        "id": "T3eXzspz7-Ha"
      },
      "execution_count": null,
      "outputs": []
    },
    {
      "cell_type": "code",
      "source": [
        "#Total sales\n",
        "sum(sales_per_month)\n"
      ],
      "metadata": {
        "colab": {
          "base_uri": "https://localhost:8080/"
        },
        "id": "HH3MDuLj84-n",
        "outputId": "8070b944-d6d9-43a4-dd4f-77d44fd5df5c"
      },
      "execution_count": null,
      "outputs": [
        {
          "output_type": "execute_result",
          "data": {
            "text/plain": [
              "8000"
            ]
          },
          "metadata": {},
          "execution_count": 30
        }
      ]
    },
    {
      "cell_type": "code",
      "source": [
        "#Highest sales month\n",
        "max(sales_per_month)\n"
      ],
      "metadata": {
        "colab": {
          "base_uri": "https://localhost:8080/"
        },
        "id": "0WVbrI2N8-Av",
        "outputId": "b46f747f-d682-4310-b35e-185e021167ff"
      },
      "execution_count": null,
      "outputs": [
        {
          "output_type": "execute_result",
          "data": {
            "text/plain": [
              "2000"
            ]
          },
          "metadata": {},
          "execution_count": 26
        }
      ]
    },
    {
      "cell_type": "code",
      "source": [
        "sales_data = {\"Laptop\": 150, \"Tablet\": 200, \"Phone\": 500}\n"
      ],
      "metadata": {
        "id": "AnEOuoZU9KJS"
      },
      "execution_count": null,
      "outputs": []
    },
    {
      "cell_type": "code",
      "source": [
        "sales_data[\"Tablet\"]"
      ],
      "metadata": {
        "colab": {
          "base_uri": "https://localhost:8080/"
        },
        "id": "S9ZfDhkH9YeN",
        "outputId": "247587b8-04a2-4816-fc11-792c078c5ce7"
      },
      "execution_count": null,
      "outputs": [
        {
          "output_type": "execute_result",
          "data": {
            "text/plain": [
              "200"
            ]
          },
          "metadata": {},
          "execution_count": 32
        }
      ]
    },
    {
      "cell_type": "code",
      "source": [
        "sales_data.update({\"Smartwatch\": 100})"
      ],
      "metadata": {
        "id": "FQLKrumI9d-4"
      },
      "execution_count": null,
      "outputs": []
    },
    {
      "cell_type": "code",
      "source": [
        "sales_data"
      ],
      "metadata": {
        "colab": {
          "base_uri": "https://localhost:8080/"
        },
        "id": "m4Me1IGO-Wkr",
        "outputId": "7ef0c5bd-c655-4727-e8b5-9372d090072f"
      },
      "execution_count": null,
      "outputs": [
        {
          "output_type": "execute_result",
          "data": {
            "text/plain": [
              "{'Laptop': 150, 'Tablet': 200, 'Phone': 500, 'Smartwatch': 100}"
            ]
          },
          "metadata": {},
          "execution_count": 42
        }
      ]
    },
    {
      "cell_type": "code",
      "source": [],
      "metadata": {
        "id": "6mQp9b6s-gGt"
      },
      "execution_count": null,
      "outputs": []
    },
    {
      "cell_type": "markdown",
      "source": [
        "#Strings"
      ],
      "metadata": {
        "id": "PgAGtYdQ-04w"
      }
    },
    {
      "cell_type": "code",
      "source": [
        "name = \"Alice\"\n",
        "age = 25\n",
        "\n",
        "print(f\"{name} is {age} years old\")"
      ],
      "metadata": {
        "id": "_z0kWv6M4D0Z",
        "outputId": "cb2f3932-f02c-4686-f575-31f0805c74ba",
        "colab": {
          "base_uri": "https://localhost:8080/"
        }
      },
      "execution_count": 1,
      "outputs": [
        {
          "output_type": "stream",
          "name": "stdout",
          "text": [
            "Alice is 25 years old\n"
          ]
        }
      ]
    },
    {
      "cell_type": "code",
      "source": [
        "num1 = 15\n",
        "num2 = 7\n",
        "\n",
        "print(f\"Sum: {num1 + num2}, difference: {num1 - num2} \")"
      ],
      "metadata": {
        "id": "_czupWN66yzM",
        "outputId": "a236042a-75c0-4387-bf58-0046ceb196ae",
        "colab": {
          "base_uri": "https://localhost:8080/"
        }
      },
      "execution_count": 2,
      "outputs": [
        {
          "output_type": "stream",
          "name": "stdout",
          "text": [
            "Sum: 22, difference: 8 \n"
          ]
        }
      ]
    },
    {
      "cell_type": "code",
      "source": [
        "price = 49.99\n",
        "print(f\"The product costs: ${price: .2f}\")"
      ],
      "metadata": {
        "id": "uBX7uhXS7MLI",
        "outputId": "f14b2928-a2cd-45ef-eb33-e1f23def6d23",
        "colab": {
          "base_uri": "https://localhost:8080/"
        }
      },
      "execution_count": 4,
      "outputs": [
        {
          "output_type": "stream",
          "name": "stdout",
          "text": [
            "The product costs: $ 49.99\n"
          ]
        }
      ]
    },
    {
      "cell_type": "code",
      "source": [
        "\n",
        "\n"
      ],
      "metadata": {
        "id": "BgLaknZm7c3H",
        "outputId": "3b70feb1-8b97-4b6a-8882-b53f5bdf1833",
        "colab": {
          "base_uri": "https://localhost:8080/"
        }
      },
      "execution_count": 5,
      "outputs": [
        {
          "output_type": "stream",
          "name": "stdout",
          "text": [
            "Laptop costs $ 999.99\n",
            "phone costs $ 699.49\n",
            "Tablet costs $ 399.99\n"
          ]
        }
      ]
    },
    {
      "cell_type": "markdown",
      "source": [
        "#Operators"
      ],
      "metadata": {
        "id": "Z8LYT3Zb8bD2"
      }
    },
    {
      "cell_type": "code",
      "source": [
        "a = 12\n",
        "b = 5\n",
        "\n",
        "print(a + b)"
      ],
      "metadata": {
        "id": "QVsiGp5p8e92",
        "outputId": "931263c6-b446-451f-bd54-6c1a2eaae946",
        "colab": {
          "base_uri": "https://localhost:8080/"
        }
      },
      "execution_count": 6,
      "outputs": [
        {
          "output_type": "stream",
          "name": "stdout",
          "text": [
            "17\n"
          ]
        }
      ]
    },
    {
      "cell_type": "code",
      "source": [
        "x = 10\n",
        "y = 3\n",
        "#Below prints x^y\n",
        "print(x ** y)"
      ],
      "metadata": {
        "id": "kYTrs1CD-Ho5",
        "outputId": "09ca157a-d6e6-413e-9c9d-497f63357456",
        "colab": {
          "base_uri": "https://localhost:8080/"
        }
      },
      "execution_count": 9,
      "outputs": [
        {
          "output_type": "stream",
          "name": "stdout",
          "text": [
            "1000\n"
          ]
        }
      ]
    },
    {
      "cell_type": "code",
      "source": [
        "original_price = 120\n",
        "discount = 20\n",
        "\n",
        "print(original_price *(1 - discount/100))"
      ],
      "metadata": {
        "id": "a22Ys8uB-O_C",
        "outputId": "813aaefd-3296-41c5-f998-909d5aa80a34",
        "colab": {
          "base_uri": "https://localhost:8080/"
        }
      },
      "execution_count": 10,
      "outputs": [
        {
          "output_type": "stream",
          "name": "stdout",
          "text": [
            "96.0\n"
          ]
        }
      ]
    },
    {
      "cell_type": "code",
      "source": [
        "x = 7\n",
        "y = 15\n"
      ],
      "metadata": {
        "id": "bJuQHzvp-ub1"
      },
      "execution_count": 11,
      "outputs": []
    },
    {
      "cell_type": "code",
      "source": [],
      "metadata": {
        "id": "Y7c4iY9u-8iy"
      },
      "execution_count": null,
      "outputs": []
    },
    {
      "cell_type": "markdown",
      "source": [
        "#Conditional Statements\n"
      ],
      "metadata": {
        "id": "erD6JUg9_GbL"
      }
    },
    {
      "cell_type": "code",
      "source": [],
      "metadata": {
        "id": "tv-jjIg4_KHG"
      },
      "execution_count": 1,
      "outputs": []
    },
    {
      "cell_type": "code",
      "source": [
        "number = int(input(\"Enter a number: \"))  # Use a different name instead of 'int'\n",
        "\n",
        "if number > 0:\n",
        "    print(\"Positive\")\n",
        "elif number < 0:\n",
        "    print(\"Negative\")\n",
        "else:\n",
        "    print(\"Zero\")"
      ],
      "metadata": {
        "id": "FSVsLNClCLw0",
        "outputId": "98101c8c-6c99-473e-d160-ec857682534f",
        "colab": {
          "base_uri": "https://localhost:8080/"
        }
      },
      "execution_count": 1,
      "outputs": [
        {
          "output_type": "stream",
          "name": "stdout",
          "text": [
            "Enter a number: -7\n",
            "Negative\n"
          ]
        }
      ]
    },
    {
      "cell_type": "code",
      "source": [
        "score = int(input(\"Enter your score:\"))\n",
        "\n",
        "if score >= 90:\n",
        "    print(\"Grade: A\")\n",
        "elif score >= 80:\n",
        "    print(\"Grade: B\")"
      ],
      "metadata": {
        "id": "Rw0bi_jzDHiQ",
        "outputId": "11a4ce9e-dfee-4c71-ba42-6b98d9bd40b3",
        "colab": {
          "base_uri": "https://localhost:8080/"
        }
      },
      "execution_count": 2,
      "outputs": [
        {
          "output_type": "stream",
          "name": "stdout",
          "text": [
            "Enter your score:87\n",
            "Grade: B\n"
          ]
        }
      ]
    },
    {
      "cell_type": "code",
      "source": [
        "num1 = float(input(\"Enter the first number: \"))\n",
        "num2 = float(input(\"Enter the second number: \"))\n",
        "num3 = float(input(\"Enter the third number: \"))\n",
        "\n",
        "# Step 2: Use conditional statements to determine the largest number\n",
        "if num1 >= num2 and num1 >= num3:\n",
        "    print(f\"The largest number is {num1}\")\n",
        "elif num2 >= num1 and num2 >= num3:\n",
        "    print(f\"The largest number is {num2}\")\n",
        "else:\n",
        "    print(f\"The largest number is {num3}\")\n"
      ],
      "metadata": {
        "id": "j9pKUAR7DuhV",
        "outputId": "23446be9-8cb4-4854-bf2e-9ff18fa50c7b",
        "colab": {
          "base_uri": "https://localhost:8080/"
        }
      },
      "execution_count": 4,
      "outputs": [
        {
          "output_type": "stream",
          "name": "stdout",
          "text": [
            "Enter the first number: 1\n",
            "Enter the second number: 2\n",
            "Enter the third number: 8\n",
            "The largest number is 8.0\n"
          ]
        }
      ]
    },
    {
      "cell_type": "code",
      "source": [],
      "metadata": {
        "id": "CtBo7T8CD7ae"
      },
      "execution_count": 4,
      "outputs": []
    },
    {
      "cell_type": "markdown",
      "source": [
        "#Lists"
      ],
      "metadata": {
        "id": "B_j3NEcPEYrF"
      }
    },
    {
      "cell_type": "code",
      "source": [],
      "metadata": {
        "id": "VEPS8A1xEac4"
      },
      "execution_count": null,
      "outputs": []
    }
  ]
}