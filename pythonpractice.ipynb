{
  "nbformat": 4,
  "nbformat_minor": 0,
  "metadata": {
    "colab": {
      "provenance": [],
      "authorship_tag": "ABX9TyODYN4ElAa5d31CBdnfq1/V",
      "include_colab_link": true
    },
    "kernelspec": {
      "name": "python3",
      "display_name": "Python 3"
    },
    "language_info": {
      "name": "python"
    }
  },
  "cells": [
    {
      "cell_type": "markdown",
      "metadata": {
        "id": "view-in-github",
        "colab_type": "text"
      },
      "source": [
        "<a href=\"https://colab.research.google.com/github/jonataneklof2025/Python-for-data-analys-youtube-kurs/blob/main/pythonpractice.ipynb\" target=\"_parent\"><img src=\"https://colab.research.google.com/assets/colab-badge.svg\" alt=\"Open In Colab\"/></a>"
      ]
    },
    {
      "cell_type": "markdown",
      "source": [
        "CODE BELOW IS BASED ON PRACTICE PROBLEMS FROM CHAT GPT\n",
        "  Each section is from data analytics youtube course"
      ],
      "metadata": {
        "id": "16Ue02mxwiVm"
      }
    },
    {
      "cell_type": "markdown",
      "source": [
        "# Variables"
      ],
      "metadata": {
        "id": "HfOlgkHWxPg7"
      }
    },
    {
      "cell_type": "code",
      "execution_count": 2,
      "metadata": {
        "colab": {
          "base_uri": "https://localhost:8080/"
        },
        "id": "WmCR54QdudXd",
        "outputId": "cf9a6e78-671c-426d-f512-a5f80d12a321"
      },
      "outputs": [
        {
          "output_type": "stream",
          "name": "stdout",
          "text": [
            "Jonatan Eklöf 24\n"
          ]
        }
      ],
      "source": [
        "name = \"Jonatan Eklöf\"\n",
        "age = 24\n",
        "print(name, age)"
      ]
    },
    {
      "cell_type": "code",
      "source": [
        "a = 5\n",
        "b = 10"
      ],
      "metadata": {
        "id": "asZYW1JDxXeD"
      },
      "execution_count": 3,
      "outputs": []
    },
    {
      "cell_type": "code",
      "source": [
        "temp = a"
      ],
      "metadata": {
        "id": "yMqCmtmexn--"
      },
      "execution_count": 4,
      "outputs": []
    },
    {
      "cell_type": "code",
      "source": [
        "a = b"
      ],
      "metadata": {
        "id": "fBljC8Mfx3WY"
      },
      "execution_count": 5,
      "outputs": []
    },
    {
      "cell_type": "code",
      "source": [
        "b = temp"
      ],
      "metadata": {
        "id": "ENzdmoHSx5Xv"
      },
      "execution_count": 6,
      "outputs": []
    },
    {
      "cell_type": "code",
      "source": [
        "print(a, b)"
      ],
      "metadata": {
        "colab": {
          "base_uri": "https://localhost:8080/"
        },
        "id": "zP15B9Wpx7Gf",
        "outputId": "dd948a23-b8db-4eed-d2cf-e77170287eb1"
      },
      "execution_count": 7,
      "outputs": [
        {
          "output_type": "stream",
          "name": "stdout",
          "text": [
            "10 5\n"
          ]
        }
      ]
    },
    {
      "cell_type": "code",
      "source": [
        "greeting = \"Hello\"\n",
        "place = \"World\""
      ],
      "metadata": {
        "id": "6wpSHVipx7wH"
      },
      "execution_count": 8,
      "outputs": []
    },
    {
      "cell_type": "code",
      "source": [
        "print(greeting, place)"
      ],
      "metadata": {
        "colab": {
          "base_uri": "https://localhost:8080/"
        },
        "id": "mcQxVpAyySTy",
        "outputId": "4df3c52b-766f-40c3-c63c-c0e14d715b79"
      },
      "execution_count": 10,
      "outputs": [
        {
          "output_type": "stream",
          "name": "stdout",
          "text": [
            "Hello World\n"
          ]
        }
      ]
    },
    {
      "cell_type": "code",
      "source": [
        "year_of_birth = 2000\n",
        "current_year = 2025"
      ],
      "metadata": {
        "id": "ptTYGqyKyVai"
      },
      "execution_count": 11,
      "outputs": []
    },
    {
      "cell_type": "code",
      "source": [
        "users_age = current_year - year_of_birth"
      ],
      "metadata": {
        "id": "-v-20H8MynvU"
      },
      "execution_count": 12,
      "outputs": []
    },
    {
      "cell_type": "code",
      "source": [
        "print(users_age)"
      ],
      "metadata": {
        "colab": {
          "base_uri": "https://localhost:8080/"
        },
        "id": "opXtAGAjysS8",
        "outputId": "9a743974-c8d4-4ada-e366-756fe9489d4a"
      },
      "execution_count": 13,
      "outputs": [
        {
          "output_type": "stream",
          "name": "stdout",
          "text": [
            "25\n"
          ]
        }
      ]
    },
    {
      "cell_type": "code",
      "source": [],
      "metadata": {
        "id": "ryjWCX-fytY0"
      },
      "execution_count": null,
      "outputs": []
    },
    {
      "cell_type": "markdown",
      "source": [
        "#Data Types\n"
      ],
      "metadata": {
        "id": "fiEQE-Lcyy03"
      }
    },
    {
      "cell_type": "code",
      "source": [
        "sales_2023 = 50000\n",
        "growth_rate = 0.08\n",
        "\n",
        "sales_2023 * (1 + growth_rate)"
      ],
      "metadata": {
        "colab": {
          "base_uri": "https://localhost:8080/"
        },
        "id": "mmppEmaVy8GG",
        "outputId": "fc2bfcb8-d74b-41b3-8b7e-082eb92bae7e"
      },
      "execution_count": 18,
      "outputs": [
        {
          "output_type": "execute_result",
          "data": {
            "text/plain": [
              "54000.0"
            ]
          },
          "metadata": {},
          "execution_count": 18
        }
      ]
    },
    {
      "cell_type": "code",
      "source": [
        "sales = 15000\n",
        "is_profitable = sales > 10000\n",
        "print(\"The Business is profitable:\", is_profitable)"
      ],
      "metadata": {
        "colab": {
          "base_uri": "https://localhost:8080/"
        },
        "id": "yFE3AS4o71vf",
        "outputId": "6370a394-a49f-4402-b5ae-456fc41e13e7"
      },
      "execution_count": 20,
      "outputs": [
        {
          "output_type": "stream",
          "name": "stdout",
          "text": [
            "The Business is profitable: True\n"
          ]
        }
      ]
    },
    {
      "cell_type": "code",
      "source": [
        "sales_per_month = [1200, 1500, 1700, 1600, 2000]"
      ],
      "metadata": {
        "id": "T3eXzspz7-Ha"
      },
      "execution_count": 21,
      "outputs": []
    },
    {
      "cell_type": "code",
      "source": [
        "#Total sales\n",
        "sum(sales_per_month)\n"
      ],
      "metadata": {
        "colab": {
          "base_uri": "https://localhost:8080/"
        },
        "id": "HH3MDuLj84-n",
        "outputId": "8070b944-d6d9-43a4-dd4f-77d44fd5df5c"
      },
      "execution_count": 30,
      "outputs": [
        {
          "output_type": "execute_result",
          "data": {
            "text/plain": [
              "8000"
            ]
          },
          "metadata": {},
          "execution_count": 30
        }
      ]
    },
    {
      "cell_type": "code",
      "source": [
        "#Highest sales month\n",
        "max(sales_per_month)\n"
      ],
      "metadata": {
        "colab": {
          "base_uri": "https://localhost:8080/"
        },
        "id": "0WVbrI2N8-Av",
        "outputId": "b46f747f-d682-4310-b35e-185e021167ff"
      },
      "execution_count": 26,
      "outputs": [
        {
          "output_type": "execute_result",
          "data": {
            "text/plain": [
              "2000"
            ]
          },
          "metadata": {},
          "execution_count": 26
        }
      ]
    },
    {
      "cell_type": "code",
      "source": [
        "sales_data = {\"Laptop\": 150, \"Tablet\": 200, \"Phone\": 500}\n"
      ],
      "metadata": {
        "id": "AnEOuoZU9KJS"
      },
      "execution_count": 31,
      "outputs": []
    },
    {
      "cell_type": "code",
      "source": [
        "sales_data[\"Tablet\"]"
      ],
      "metadata": {
        "colab": {
          "base_uri": "https://localhost:8080/"
        },
        "id": "S9ZfDhkH9YeN",
        "outputId": "247587b8-04a2-4816-fc11-792c078c5ce7"
      },
      "execution_count": 32,
      "outputs": [
        {
          "output_type": "execute_result",
          "data": {
            "text/plain": [
              "200"
            ]
          },
          "metadata": {},
          "execution_count": 32
        }
      ]
    },
    {
      "cell_type": "code",
      "source": [
        "sales_data.update({\"Smartwatch\": 100})"
      ],
      "metadata": {
        "id": "FQLKrumI9d-4"
      },
      "execution_count": 40,
      "outputs": []
    },
    {
      "cell_type": "code",
      "source": [
        "sales_data"
      ],
      "metadata": {
        "colab": {
          "base_uri": "https://localhost:8080/"
        },
        "id": "m4Me1IGO-Wkr",
        "outputId": "7ef0c5bd-c655-4727-e8b5-9372d090072f"
      },
      "execution_count": 42,
      "outputs": [
        {
          "output_type": "execute_result",
          "data": {
            "text/plain": [
              "{'Laptop': 150, 'Tablet': 200, 'Phone': 500, 'Smartwatch': 100}"
            ]
          },
          "metadata": {},
          "execution_count": 42
        }
      ]
    },
    {
      "cell_type": "code",
      "source": [],
      "metadata": {
        "id": "6mQp9b6s-gGt"
      },
      "execution_count": null,
      "outputs": []
    },
    {
      "cell_type": "markdown",
      "source": [
        "START AT STRINGS"
      ],
      "metadata": {
        "id": "PgAGtYdQ-04w"
      }
    }
  ]
}