{
  "nbformat": 4,
  "nbformat_minor": 0,
  "metadata": {
    "colab": {
      "provenance": [],
      "authorship_tag": "ABX9TyNdwQa8WaNWat+vKyQlz3yD",
      "include_colab_link": true
    },
    "kernelspec": {
      "name": "python3",
      "display_name": "Python 3"
    },
    "language_info": {
      "name": "python"
    }
  },
  "cells": [
    {
      "cell_type": "markdown",
      "metadata": {
        "id": "view-in-github",
        "colab_type": "text"
      },
      "source": [
        "<a href=\"https://colab.research.google.com/github/jonataneklof2025/Python-for-data-analys-youtube-kurs/blob/main/pythonpractice.ipynb\" target=\"_parent\"><img src=\"https://colab.research.google.com/assets/colab-badge.svg\" alt=\"Open In Colab\"/></a>"
      ]
    },
    {
      "cell_type": "markdown",
      "source": [
        "CODE BELOW IS BASED ON PRACTICE PROBLEMS FROM CHAT GPT\n",
        "  Each section is from data analytics youtube course"
      ],
      "metadata": {
        "id": "16Ue02mxwiVm"
      }
    },
    {
      "cell_type": "markdown",
      "source": [
        "# Variables"
      ],
      "metadata": {
        "id": "HfOlgkHWxPg7"
      }
    },
    {
      "cell_type": "code",
      "execution_count": null,
      "metadata": {
        "colab": {
          "base_uri": "https://localhost:8080/"
        },
        "id": "WmCR54QdudXd",
        "outputId": "cf9a6e78-671c-426d-f512-a5f80d12a321"
      },
      "outputs": [
        {
          "output_type": "stream",
          "name": "stdout",
          "text": [
            "Jonatan Eklöf 24\n"
          ]
        }
      ],
      "source": [
        "name = \"Jonatan Eklöf\"\n",
        "age = 24\n",
        "print(name, age)"
      ]
    },
    {
      "cell_type": "code",
      "source": [
        "a = 5\n",
        "b = 10"
      ],
      "metadata": {
        "id": "asZYW1JDxXeD"
      },
      "execution_count": null,
      "outputs": []
    },
    {
      "cell_type": "code",
      "source": [
        "temp = a"
      ],
      "metadata": {
        "id": "yMqCmtmexn--"
      },
      "execution_count": null,
      "outputs": []
    },
    {
      "cell_type": "code",
      "source": [
        "a = b"
      ],
      "metadata": {
        "id": "fBljC8Mfx3WY"
      },
      "execution_count": null,
      "outputs": []
    },
    {
      "cell_type": "code",
      "source": [
        "b = temp"
      ],
      "metadata": {
        "id": "ENzdmoHSx5Xv"
      },
      "execution_count": null,
      "outputs": []
    },
    {
      "cell_type": "code",
      "source": [
        "print(a, b)"
      ],
      "metadata": {
        "colab": {
          "base_uri": "https://localhost:8080/"
        },
        "id": "zP15B9Wpx7Gf",
        "outputId": "dd948a23-b8db-4eed-d2cf-e77170287eb1"
      },
      "execution_count": null,
      "outputs": [
        {
          "output_type": "stream",
          "name": "stdout",
          "text": [
            "10 5\n"
          ]
        }
      ]
    },
    {
      "cell_type": "code",
      "source": [
        "greeting = \"Hello\"\n",
        "place = \"World\""
      ],
      "metadata": {
        "id": "6wpSHVipx7wH"
      },
      "execution_count": null,
      "outputs": []
    },
    {
      "cell_type": "code",
      "source": [
        "print(greeting, place)"
      ],
      "metadata": {
        "colab": {
          "base_uri": "https://localhost:8080/"
        },
        "id": "mcQxVpAyySTy",
        "outputId": "4df3c52b-766f-40c3-c63c-c0e14d715b79"
      },
      "execution_count": null,
      "outputs": [
        {
          "output_type": "stream",
          "name": "stdout",
          "text": [
            "Hello World\n"
          ]
        }
      ]
    },
    {
      "cell_type": "code",
      "source": [
        "year_of_birth = 2000\n",
        "current_year = 2025"
      ],
      "metadata": {
        "id": "ptTYGqyKyVai"
      },
      "execution_count": null,
      "outputs": []
    },
    {
      "cell_type": "code",
      "source": [
        "users_age = current_year - year_of_birth"
      ],
      "metadata": {
        "id": "-v-20H8MynvU"
      },
      "execution_count": null,
      "outputs": []
    },
    {
      "cell_type": "code",
      "source": [
        "print(users_age)"
      ],
      "metadata": {
        "colab": {
          "base_uri": "https://localhost:8080/"
        },
        "id": "opXtAGAjysS8",
        "outputId": "9a743974-c8d4-4ada-e366-756fe9489d4a"
      },
      "execution_count": null,
      "outputs": [
        {
          "output_type": "stream",
          "name": "stdout",
          "text": [
            "25\n"
          ]
        }
      ]
    },
    {
      "cell_type": "code",
      "source": [],
      "metadata": {
        "id": "ryjWCX-fytY0"
      },
      "execution_count": null,
      "outputs": []
    },
    {
      "cell_type": "markdown",
      "source": [
        "#Data Types\n"
      ],
      "metadata": {
        "id": "fiEQE-Lcyy03"
      }
    },
    {
      "cell_type": "code",
      "source": [
        "sales_2023 = 50000\n",
        "growth_rate = 0.08\n",
        "\n",
        "sales_2023 * (1 + growth_rate)"
      ],
      "metadata": {
        "colab": {
          "base_uri": "https://localhost:8080/"
        },
        "id": "mmppEmaVy8GG",
        "outputId": "fc2bfcb8-d74b-41b3-8b7e-082eb92bae7e"
      },
      "execution_count": null,
      "outputs": [
        {
          "output_type": "execute_result",
          "data": {
            "text/plain": [
              "54000.0"
            ]
          },
          "metadata": {},
          "execution_count": 18
        }
      ]
    },
    {
      "cell_type": "code",
      "source": [
        "sales = 15000\n",
        "is_profitable = sales > 10000\n",
        "print(\"The Business is profitable:\", is_profitable)"
      ],
      "metadata": {
        "colab": {
          "base_uri": "https://localhost:8080/"
        },
        "id": "yFE3AS4o71vf",
        "outputId": "6370a394-a49f-4402-b5ae-456fc41e13e7"
      },
      "execution_count": null,
      "outputs": [
        {
          "output_type": "stream",
          "name": "stdout",
          "text": [
            "The Business is profitable: True\n"
          ]
        }
      ]
    },
    {
      "cell_type": "code",
      "source": [
        "sales_per_month = [1200, 1500, 1700, 1600, 2000]"
      ],
      "metadata": {
        "id": "T3eXzspz7-Ha"
      },
      "execution_count": null,
      "outputs": []
    },
    {
      "cell_type": "code",
      "source": [
        "#Total sales\n",
        "sum(sales_per_month)\n"
      ],
      "metadata": {
        "colab": {
          "base_uri": "https://localhost:8080/"
        },
        "id": "HH3MDuLj84-n",
        "outputId": "8070b944-d6d9-43a4-dd4f-77d44fd5df5c"
      },
      "execution_count": null,
      "outputs": [
        {
          "output_type": "execute_result",
          "data": {
            "text/plain": [
              "8000"
            ]
          },
          "metadata": {},
          "execution_count": 30
        }
      ]
    },
    {
      "cell_type": "code",
      "source": [
        "#Highest sales month\n",
        "max(sales_per_month)\n"
      ],
      "metadata": {
        "colab": {
          "base_uri": "https://localhost:8080/"
        },
        "id": "0WVbrI2N8-Av",
        "outputId": "b46f747f-d682-4310-b35e-185e021167ff"
      },
      "execution_count": null,
      "outputs": [
        {
          "output_type": "execute_result",
          "data": {
            "text/plain": [
              "2000"
            ]
          },
          "metadata": {},
          "execution_count": 26
        }
      ]
    },
    {
      "cell_type": "code",
      "source": [
        "sales_data = {\"Laptop\": 150, \"Tablet\": 200, \"Phone\": 500}\n"
      ],
      "metadata": {
        "id": "AnEOuoZU9KJS"
      },
      "execution_count": null,
      "outputs": []
    },
    {
      "cell_type": "code",
      "source": [
        "sales_data[\"Tablet\"]"
      ],
      "metadata": {
        "colab": {
          "base_uri": "https://localhost:8080/"
        },
        "id": "S9ZfDhkH9YeN",
        "outputId": "247587b8-04a2-4816-fc11-792c078c5ce7"
      },
      "execution_count": null,
      "outputs": [
        {
          "output_type": "execute_result",
          "data": {
            "text/plain": [
              "200"
            ]
          },
          "metadata": {},
          "execution_count": 32
        }
      ]
    },
    {
      "cell_type": "code",
      "source": [
        "sales_data.update({\"Smartwatch\": 100})"
      ],
      "metadata": {
        "id": "FQLKrumI9d-4"
      },
      "execution_count": null,
      "outputs": []
    },
    {
      "cell_type": "code",
      "source": [
        "sales_data"
      ],
      "metadata": {
        "colab": {
          "base_uri": "https://localhost:8080/"
        },
        "id": "m4Me1IGO-Wkr",
        "outputId": "7ef0c5bd-c655-4727-e8b5-9372d090072f"
      },
      "execution_count": null,
      "outputs": [
        {
          "output_type": "execute_result",
          "data": {
            "text/plain": [
              "{'Laptop': 150, 'Tablet': 200, 'Phone': 500, 'Smartwatch': 100}"
            ]
          },
          "metadata": {},
          "execution_count": 42
        }
      ]
    },
    {
      "cell_type": "code",
      "source": [],
      "metadata": {
        "id": "6mQp9b6s-gGt"
      },
      "execution_count": null,
      "outputs": []
    },
    {
      "cell_type": "markdown",
      "source": [
        "#Strings"
      ],
      "metadata": {
        "id": "PgAGtYdQ-04w"
      }
    },
    {
      "cell_type": "code",
      "source": [
        "name = \"Alice\"\n",
        "age = 25\n",
        "\n",
        "print(f\"{name} is {age} years old\")"
      ],
      "metadata": {
        "colab": {
          "base_uri": "https://localhost:8080/"
        },
        "id": "_z0kWv6M4D0Z",
        "outputId": "cb2f3932-f02c-4686-f575-31f0805c74ba"
      },
      "execution_count": null,
      "outputs": [
        {
          "output_type": "stream",
          "name": "stdout",
          "text": [
            "Alice is 25 years old\n"
          ]
        }
      ]
    },
    {
      "cell_type": "code",
      "source": [
        "num1 = 15\n",
        "num2 = 7\n",
        "\n",
        "print(f\"Sum: {num1 + num2}, difference: {num1 - num2} \")"
      ],
      "metadata": {
        "colab": {
          "base_uri": "https://localhost:8080/"
        },
        "id": "_czupWN66yzM",
        "outputId": "a236042a-75c0-4387-bf58-0046ceb196ae"
      },
      "execution_count": null,
      "outputs": [
        {
          "output_type": "stream",
          "name": "stdout",
          "text": [
            "Sum: 22, difference: 8 \n"
          ]
        }
      ]
    },
    {
      "cell_type": "code",
      "source": [
        "price = 49.99\n",
        "print(f\"The product costs: ${price: .2f}\")"
      ],
      "metadata": {
        "colab": {
          "base_uri": "https://localhost:8080/"
        },
        "id": "uBX7uhXS7MLI",
        "outputId": "f14b2928-a2cd-45ef-eb33-e1f23def6d23"
      },
      "execution_count": null,
      "outputs": [
        {
          "output_type": "stream",
          "name": "stdout",
          "text": [
            "The product costs: $ 49.99\n"
          ]
        }
      ]
    },
    {
      "cell_type": "code",
      "source": [
        "\n",
        "\n"
      ],
      "metadata": {
        "colab": {
          "base_uri": "https://localhost:8080/"
        },
        "id": "BgLaknZm7c3H",
        "outputId": "3b70feb1-8b97-4b6a-8882-b53f5bdf1833"
      },
      "execution_count": null,
      "outputs": [
        {
          "output_type": "stream",
          "name": "stdout",
          "text": [
            "Laptop costs $ 999.99\n",
            "phone costs $ 699.49\n",
            "Tablet costs $ 399.99\n"
          ]
        }
      ]
    },
    {
      "cell_type": "markdown",
      "source": [
        "#Operators"
      ],
      "metadata": {
        "id": "Z8LYT3Zb8bD2"
      }
    },
    {
      "cell_type": "code",
      "source": [
        "a = 12\n",
        "b = 5\n",
        "\n",
        "print(a + b)"
      ],
      "metadata": {
        "colab": {
          "base_uri": "https://localhost:8080/"
        },
        "id": "QVsiGp5p8e92",
        "outputId": "931263c6-b446-451f-bd54-6c1a2eaae946"
      },
      "execution_count": null,
      "outputs": [
        {
          "output_type": "stream",
          "name": "stdout",
          "text": [
            "17\n"
          ]
        }
      ]
    },
    {
      "cell_type": "code",
      "source": [
        "x = 10\n",
        "y = 3\n",
        "#Below prints x^y\n",
        "print(x ** y)"
      ],
      "metadata": {
        "colab": {
          "base_uri": "https://localhost:8080/"
        },
        "id": "kYTrs1CD-Ho5",
        "outputId": "09ca157a-d6e6-413e-9c9d-497f63357456"
      },
      "execution_count": null,
      "outputs": [
        {
          "output_type": "stream",
          "name": "stdout",
          "text": [
            "1000\n"
          ]
        }
      ]
    },
    {
      "cell_type": "code",
      "source": [
        "original_price = 120\n",
        "discount = 20\n",
        "\n",
        "print(original_price *(1 - discount/100))"
      ],
      "metadata": {
        "colab": {
          "base_uri": "https://localhost:8080/"
        },
        "id": "a22Ys8uB-O_C",
        "outputId": "813aaefd-3296-41c5-f998-909d5aa80a34"
      },
      "execution_count": null,
      "outputs": [
        {
          "output_type": "stream",
          "name": "stdout",
          "text": [
            "96.0\n"
          ]
        }
      ]
    },
    {
      "cell_type": "code",
      "source": [
        "x = 7\n",
        "y = 15\n"
      ],
      "metadata": {
        "id": "bJuQHzvp-ub1"
      },
      "execution_count": null,
      "outputs": []
    },
    {
      "cell_type": "code",
      "source": [],
      "metadata": {
        "id": "Y7c4iY9u-8iy"
      },
      "execution_count": null,
      "outputs": []
    },
    {
      "cell_type": "markdown",
      "source": [
        "#Conditional Statements\n"
      ],
      "metadata": {
        "id": "erD6JUg9_GbL"
      }
    },
    {
      "cell_type": "code",
      "source": [],
      "metadata": {
        "id": "tv-jjIg4_KHG"
      },
      "execution_count": null,
      "outputs": []
    },
    {
      "cell_type": "code",
      "source": [
        "number = int(input(\"Enter a number: \"))  # Use a different name instead of 'int'\n",
        "\n",
        "if number > 0:\n",
        "    print(\"Positive\")\n",
        "elif number < 0:\n",
        "    print(\"Negative\")\n",
        "else:\n",
        "    print(\"Zero\")"
      ],
      "metadata": {
        "colab": {
          "base_uri": "https://localhost:8080/"
        },
        "id": "FSVsLNClCLw0",
        "outputId": "98101c8c-6c99-473e-d160-ec857682534f"
      },
      "execution_count": null,
      "outputs": [
        {
          "output_type": "stream",
          "name": "stdout",
          "text": [
            "Enter a number: -7\n",
            "Negative\n"
          ]
        }
      ]
    },
    {
      "cell_type": "code",
      "source": [
        "score = int(input(\"Enter your score:\"))\n",
        "\n",
        "if score >= 90:\n",
        "    print(\"Grade: A\")\n",
        "elif score >= 80:\n",
        "    print(\"Grade: B\")"
      ],
      "metadata": {
        "colab": {
          "base_uri": "https://localhost:8080/"
        },
        "id": "Rw0bi_jzDHiQ",
        "outputId": "11a4ce9e-dfee-4c71-ba42-6b98d9bd40b3"
      },
      "execution_count": null,
      "outputs": [
        {
          "output_type": "stream",
          "name": "stdout",
          "text": [
            "Enter your score:87\n",
            "Grade: B\n"
          ]
        }
      ]
    },
    {
      "cell_type": "code",
      "source": [
        "num1 = float(input(\"Enter the first number: \"))\n",
        "num2 = float(input(\"Enter the second number: \"))\n",
        "num3 = float(input(\"Enter the third number: \"))\n",
        "\n",
        "# Step 2: Use conditional statements to determine the largest number\n",
        "if num1 >= num2 and num1 >= num3:\n",
        "    print(f\"The largest number is {num1}\")\n",
        "elif num2 >= num1 and num2 >= num3:\n",
        "    print(f\"The largest number is {num2}\")\n",
        "else:\n",
        "    print(f\"The largest number is {num3}\")\n"
      ],
      "metadata": {
        "colab": {
          "base_uri": "https://localhost:8080/"
        },
        "id": "j9pKUAR7DuhV",
        "outputId": "23446be9-8cb4-4854-bf2e-9ff18fa50c7b"
      },
      "execution_count": null,
      "outputs": [
        {
          "output_type": "stream",
          "name": "stdout",
          "text": [
            "Enter the first number: 1\n",
            "Enter the second number: 2\n",
            "Enter the third number: 8\n",
            "The largest number is 8.0\n"
          ]
        }
      ]
    },
    {
      "cell_type": "code",
      "source": [],
      "metadata": {
        "id": "CtBo7T8CD7ae"
      },
      "execution_count": null,
      "outputs": []
    },
    {
      "cell_type": "markdown",
      "source": [
        "#Lists"
      ],
      "metadata": {
        "id": "B_j3NEcPEYrF"
      }
    },
    {
      "cell_type": "code",
      "source": [
        "numbers = [10, 20, 30, 40, 50]\n",
        "\n",
        "print(sum(numbers))\n",
        "print(max(numbers))\n",
        "print(min(numbers))\n",
        "numbers.append(87)\n",
        "numbers\n",
        "numbers.pop(0)\n",
        "numbers"
      ],
      "metadata": {
        "colab": {
          "base_uri": "https://localhost:8080/"
        },
        "id": "VEPS8A1xEac4",
        "outputId": "ad5cb59c-d539-4027-9f35-1fbffde3aaa2"
      },
      "execution_count": null,
      "outputs": [
        {
          "output_type": "stream",
          "name": "stdout",
          "text": [
            "150\n",
            "50\n",
            "10\n"
          ]
        },
        {
          "output_type": "execute_result",
          "data": {
            "text/plain": [
              "[20, 30, 40, 50, 87]"
            ]
          },
          "metadata": {},
          "execution_count": 16
        }
      ]
    },
    {
      "cell_type": "code",
      "source": [
        "new_numbers = [1, 2, 3, 4, 5, 6, 7, 8, 9]\n",
        "\n",
        "print(new_numbers[0:3])\n",
        "print(new_numbers[6:9])\n"
      ],
      "metadata": {
        "id": "TVFoiBUrI6F2",
        "outputId": "1b1d152e-0caa-4cd8-987d-004d93a50f49",
        "colab": {
          "base_uri": "https://localhost:8080/"
        }
      },
      "execution_count": null,
      "outputs": [
        {
          "output_type": "stream",
          "name": "stdout",
          "text": [
            "[1, 2, 3]\n",
            "[7, 8, 9]\n"
          ]
        }
      ]
    },
    {
      "cell_type": "code",
      "source": [
        "list1 = [1, 2, 3]\n",
        "list2 = [4, 5, 6]\n",
        "\n",
        "list3 = list1 + list2\n",
        "print(list3)"
      ],
      "metadata": {
        "id": "4l5kdUEPKi0g",
        "outputId": "2dbe780e-898d-415d-b1cb-cc3fcf5f254a",
        "colab": {
          "base_uri": "https://localhost:8080/"
        }
      },
      "execution_count": null,
      "outputs": [
        {
          "output_type": "stream",
          "name": "stdout",
          "text": [
            "[1, 2, 3, 4, 5, 6]\n"
          ]
        }
      ]
    },
    {
      "cell_type": "code",
      "source": [],
      "metadata": {
        "id": "wYmAlefIKwRy"
      },
      "execution_count": null,
      "outputs": []
    },
    {
      "cell_type": "markdown",
      "source": [
        "#Dictionaries"
      ],
      "metadata": {
        "id": "Ls4VTYohAMeC"
      }
    },
    {
      "cell_type": "code",
      "source": [
        "dictionary = {\"name\": \"Alice\", \"age\": 25, \"city\": \"New York\"}\n",
        "print(dictionary)"
      ],
      "metadata": {
        "id": "9XJ3ZGC_Anso",
        "outputId": "9fa2029a-2f4d-4f98-dd06-9f9dfa7be36b",
        "colab": {
          "base_uri": "https://localhost:8080/"
        }
      },
      "execution_count": 2,
      "outputs": [
        {
          "output_type": "stream",
          "name": "stdout",
          "text": [
            "{'name': 'Alice', 'age': 25, 'city': 'New York'}\n"
          ]
        }
      ]
    },
    {
      "cell_type": "code",
      "source": [
        "print(dictionary[\"name\"])"
      ],
      "metadata": {
        "id": "TUt1Li7MDMvC",
        "outputId": "78660ef7-214b-416f-e255-f60929a56cfb",
        "colab": {
          "base_uri": "https://localhost:8080/"
        }
      },
      "execution_count": 3,
      "outputs": [
        {
          "output_type": "stream",
          "name": "stdout",
          "text": [
            "Alice\n"
          ]
        }
      ]
    },
    {
      "cell_type": "code",
      "source": [
        "dictionary.update({\"job\": \"Engineer\"})\n",
        "print(dictionary)"
      ],
      "metadata": {
        "id": "Juv2ZFjqDUxR",
        "outputId": "01f1b94b-2cec-4c29-9e46-be40e7bf51e1",
        "colab": {
          "base_uri": "https://localhost:8080/"
        }
      },
      "execution_count": 4,
      "outputs": [
        {
          "output_type": "stream",
          "name": "stdout",
          "text": [
            "{'name': 'Alice', 'age': 25, 'city': 'New York', 'job': 'Engineer'}\n"
          ]
        }
      ]
    },
    {
      "cell_type": "code",
      "source": [
        "dictionary.update({\"city\": \"Los Angeles\"})\n",
        "print(dictionary)"
      ],
      "metadata": {
        "id": "yDNMwWEwDfoK",
        "outputId": "f62379d6-0fe2-4443-e95f-ff2ba2273934",
        "colab": {
          "base_uri": "https://localhost:8080/"
        }
      },
      "execution_count": 5,
      "outputs": [
        {
          "output_type": "stream",
          "name": "stdout",
          "text": [
            "{'name': 'Alice', 'age': 25, 'city': 'Los Angeles', 'job': 'Engineer'}\n"
          ]
        }
      ]
    },
    {
      "cell_type": "code",
      "source": [
        "if \"age\" in dictionary:\n",
        "    print(\"Key Exists\")\n"
      ],
      "metadata": {
        "id": "2owwcGc6DpL7",
        "outputId": "17406fef-d958-41d0-ab53-956b30da1e2a",
        "colab": {
          "base_uri": "https://localhost:8080/"
        }
      },
      "execution_count": 6,
      "outputs": [
        {
          "output_type": "stream",
          "name": "stdout",
          "text": [
            "Key Exists\n"
          ]
        }
      ]
    },
    {
      "cell_type": "code",
      "source": [
        "for i in dictionary:\n",
        "  print(i)\n",
        "  print(dictionary[i])"
      ],
      "metadata": {
        "id": "6SnjEzxED3C1",
        "outputId": "6ae1e17b-da16-48d1-da54-e7465f98a1b6",
        "colab": {
          "base_uri": "https://localhost:8080/"
        }
      },
      "execution_count": 9,
      "outputs": [
        {
          "output_type": "stream",
          "name": "stdout",
          "text": [
            "name\n",
            "Alice\n",
            "age\n",
            "25\n",
            "city\n",
            "Los Angeles\n",
            "job\n",
            "Engineer\n"
          ]
        }
      ]
    },
    {
      "cell_type": "code",
      "source": [
        "dict1 = {\"a\": 1, \"b\": 2}\n",
        "dict2 = {\"c\": 3, \"d\": 4}\n",
        "\n",
        "dict1.update(dict2)\n",
        "print(dict1)"
      ],
      "metadata": {
        "id": "bZEmOFZMD_rl",
        "outputId": "98ac0d59-93c9-4ab9-be12-b2f9f7fd8c87",
        "colab": {
          "base_uri": "https://localhost:8080/"
        }
      },
      "execution_count": 12,
      "outputs": [
        {
          "output_type": "stream",
          "name": "stdout",
          "text": [
            "{'a': 1, 'b': 2, 'c': 3, 'd': 4}\n"
          ]
        }
      ]
    },
    {
      "cell_type": "code",
      "source": [],
      "metadata": {
        "id": "fwFOIeOFEypa"
      },
      "execution_count": null,
      "outputs": []
    },
    {
      "cell_type": "markdown",
      "source": [
        "#OPERATORS PART 2(and, or, is, is not, in, not in)\n",
        "\n",
        "> Add blockquote\n",
        "\n"
      ],
      "metadata": {
        "id": "3yA6pGkOE-Mx"
      }
    },
    {
      "cell_type": "code",
      "source": [
        "number = input(\"Enter a number:\")\n",
        "\n",
        "if number.isdigit() and 10 <= int(number) <= 50:\n",
        "    print(\"Number is valid\")\n",
        "\n",
        "else:\n",
        "    print(\"Number is invalid\")"
      ],
      "metadata": {
        "id": "UvSBDXDfFDKs",
        "outputId": "5a7ae773-129e-4c53-ff94-9f3ac6e51091",
        "colab": {
          "base_uri": "https://localhost:8080/"
        }
      },
      "execution_count": 14,
      "outputs": [
        {
          "output_type": "stream",
          "name": "stdout",
          "text": [
            "Enter a number:20\n",
            "Number is valid\n"
          ]
        }
      ]
    },
    {
      "cell_type": "code",
      "source": [
        "membership = input(\"Do you have a membership? (yes/no): \")\n",
        "age = input(\"Enter your age\")\n",
        "age = int(age)\n",
        "\n",
        "if (age >= 18 and membership == \"yes\") or age >=21:\n",
        "    print(\"Allowed\")\n",
        "\n",
        "else:\n",
        "  print(\"Not allowed\")\n"
      ],
      "metadata": {
        "id": "1M-GZaGJK_sv",
        "outputId": "9f7da72c-58ac-4b74-fbbd-e6d1b4d9f969",
        "colab": {
          "base_uri": "https://localhost:8080/"
        }
      },
      "execution_count": 2,
      "outputs": [
        {
          "output_type": "stream",
          "name": "stdout",
          "text": [
            "Do you have a membership? (yes/no): no\n",
            "Enter your age29\n",
            "Allowed\n"
          ]
        }
      ]
    },
    {
      "cell_type": "code",
      "source": [
        "a = 10\n",
        "b = 10\n",
        "\n",
        "a is b"
      ],
      "metadata": {
        "id": "sH0g5sINL8Fk",
        "outputId": "6d2053da-07d3-495d-a8db-99d4b8fa282c",
        "colab": {
          "base_uri": "https://localhost:8080/"
        }
      },
      "execution_count": 4,
      "outputs": [
        {
          "output_type": "execute_result",
          "data": {
            "text/plain": [
              "True"
            ]
          },
          "metadata": {},
          "execution_count": 4
        }
      ]
    },
    {
      "cell_type": "code",
      "source": [
        "if a is b:\n",
        "  print(\"True\")\n",
        "\n",
        "else:\n",
        "  print(\"False\")"
      ],
      "metadata": {
        "id": "DF1f13MONUVF",
        "outputId": "9481dec4-080a-4568-ace8-36f9e95c9f09",
        "colab": {
          "base_uri": "https://localhost:8080/"
        }
      },
      "execution_count": 7,
      "outputs": [
        {
          "output_type": "stream",
          "name": "stdout",
          "text": [
            "False\n"
          ]
        }
      ]
    },
    {
      "cell_type": "code",
      "source": [
        "fruits = [\"apple\", \"banana\", \"cherry\"]\n",
        "\n",
        "fruit_name = input(\"Enter a fruit name: \")\n",
        "\n",
        "if fruit_name in fruits:\n",
        "  print(\"Yes, it's avaiable\")\n",
        "\n",
        "else:\n",
        "  print(\"Not Available\")"
      ],
      "metadata": {
        "id": "ldrwBmKCNfZ-",
        "outputId": "eeea571d-ea39-4acb-cf80-ad315cf0796f",
        "colab": {
          "base_uri": "https://localhost:8080/"
        }
      },
      "execution_count": 8,
      "outputs": [
        {
          "output_type": "stream",
          "name": "stdout",
          "text": [
            "Enter a fruit name: tomato\n",
            "Not Available\n"
          ]
        }
      ]
    },
    {
      "cell_type": "code",
      "source": [
        "password = input(\"Enter password: \")\n",
        "\n",
        "if \"@\" or \"#\" or \"$\" or \"%\" in password:\n",
        "  print(\"Strong Password\")\n",
        "\n",
        "else:\n",
        "  print(\"Weak Password\")"
      ],
      "metadata": {
        "id": "fEZTCYpDN6JZ",
        "outputId": "7b9065f2-208f-4dae-db30-317a8d04ce49",
        "colab": {
          "base_uri": "https://localhost:8080/"
        }
      },
      "execution_count": 9,
      "outputs": [
        {
          "output_type": "stream",
          "name": "stdout",
          "text": [
            "Enter password: ilovemonkeys69@\n",
            "Strong Password\n"
          ]
        }
      ]
    },
    {
      "cell_type": "code",
      "source": [],
      "metadata": {
        "id": "dGyn-J58OQrs"
      },
      "execution_count": 9,
      "outputs": []
    }
  ]
}